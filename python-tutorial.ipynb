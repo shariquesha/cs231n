{
 "cells": [
  {
   "cell_type": "code",
   "execution_count": 2,
   "metadata": {},
   "outputs": [
    {
     "name": "stdout",
     "output_type": "stream",
     "text": [
      "[-1, 0, 1, 2, 4, 9]\n"
     ]
    }
   ],
   "source": [
    "# simple python code for quicksort\n",
    "\n",
    "def quicksort(arr):\n",
    "    if len(arr) <= 1:\n",
    "        return arr\n",
    "    pivot = arr[len(arr) // 2] # choose middle index as pivot\n",
    "    left = [x for x in arr if x < pivot ] # elements less than pivot\n",
    "    middle = [x for x in arr if x == pivot] # pivot element\n",
    "    right = [x for x in arr if x > pivot] # elements greater than pivot\n",
    "    return quicksort(left) + middle + quicksort(right)\n",
    "\n",
    "print(quicksort([1,2,-1,4,0,9]))"
   ]
  },
  {
   "cell_type": "code",
   "execution_count": 13,
   "metadata": {},
   "outputs": [
    {
     "name": "stdout",
     "output_type": "stream",
     "text": [
      "<type 'int'>\n",
      "3\n",
      "4\n",
      "2\n",
      "6\n",
      "9\n",
      "4\n",
      "8\n",
      "<type 'float'>\n",
      "(2.5, 3.5, 5.0, 6.25)\n"
     ]
    }
   ],
   "source": [
    "# Basic data types and operators in python\n",
    "\n",
    "x = 3\n",
    "print(type(x))\n",
    "print(x)\n",
    "print(x + 1)\n",
    "print(x - 1)\n",
    "print(x * 2)\n",
    "print(x ** 2)\n",
    "x += 1\n",
    "print(x)\n",
    "x *= 2\n",
    "print(x)\n",
    "\n",
    "y = 2.5\n",
    "\n",
    "print(type(y))\n",
    "print(y, y + 1, y * 2, y ** 2)\n",
    "\n",
    "# x++ # ++, --  operator doesnot exist in python"
   ]
  },
  {
   "cell_type": "code",
   "execution_count": 17,
   "metadata": {},
   "outputs": [
    {
     "name": "stdout",
     "output_type": "stream",
     "text": [
      "<type 'bool'>\n",
      "False\n",
      "True\n",
      "False\n",
      "True\n"
     ]
    }
   ],
   "source": [
    "# Booleans in python\n",
    "\n",
    "t = True\n",
    "f = False\n",
    "\n",
    "print(type(t))\n",
    "print(t and f)\n",
    "# print(t && f) # &&, ||, ! operator doesnot exist in python instead use english word `and`, `or`, `not`\n",
    "print(t or f)\n",
    "print(not t)\n",
    "print(t != f) # logical xor"
   ]
  },
  {
   "cell_type": "code",
   "execution_count": 19,
   "metadata": {},
   "outputs": [
    {
     "name": "stdout",
     "output_type": "stream",
     "text": [
      "hello\n",
      "5\n",
      "hello world\n",
      "hello world 12\n",
      "Hello\n",
      "HELLO\n",
      "  hello\n",
      " hello \n",
      "he(ell)(ell)o\n",
      "world\n"
     ]
    }
   ],
   "source": [
    "# Strings in python\n",
    "\n",
    "hello = 'hello'\n",
    "world = 'world'\n",
    "\n",
    "print(hello)\n",
    "print(len(hello))\n",
    "hw = hello + ' ' + world\n",
    "print(hw)\n",
    "\n",
    "hw12 = '%s %s %d' % (hello, world, 12)\n",
    "\n",
    "print(hw12)\n",
    "\n",
    "s = 'hello'\n",
    "print(s.capitalize())\n",
    "print(s.upper())\n",
    "print(s.rjust(7)) # right justify\n",
    "print(s.center(7)) # center justify\n",
    "print(s.replace('l', '(ell)'))\n",
    "print(' world '.strip())\n",
    "\n",
    "\n"
   ]
  },
  {
   "cell_type": "code",
   "execution_count": 73,
   "metadata": {},
   "outputs": [
    {
     "name": "stdout",
     "output_type": "stream",
     "text": [
      "([3, 1, 2], 2)\n",
      "2\n",
      "[3, 1, 'foo']\n",
      "[3, 1, 'foo', 'bar']\n",
      "('bar', [3, 1, 'foo'])\n",
      "[0, 1, 2, 3, 4]\n",
      "[2, 3]\n",
      "[2, 3, 4]\n",
      "[0, 1]\n",
      "[0, 1, 2, 3, 4]\n",
      "[0, 1, 2, 3]\n",
      "[0, 1, 8, 9, 4]\n",
      "cute\n",
      "True\n",
      "{'fish': 'wet', 'dog': 'furry', 'cat': 'cute'}\n",
      "wet\n",
      "N/A\n",
      "N/A\n",
      "True\n",
      "False\n",
      "True\n",
      "3\n",
      "2\n",
      "set(['fish', 'dog'])\n",
      "{(0, 1): 0, (1, 2): 1, (6, 7): 6, (5, 6): 5, (7, 8): 7, (8, 9): 8, (4, 5): 4, (2, 3): 2, (9, 10): 9, (3, 4): 3}\n",
      "<type 'tuple'>\n",
      "5\n",
      "1\n"
     ]
    }
   ],
   "source": [
    "# containers in python\n",
    "\n",
    "# Lists\n",
    "xs = [3, 1, 2]\n",
    "print(xs, xs[2])\n",
    "print(xs[-1])\n",
    "xs[2] = 'foo'\n",
    "print(xs)\n",
    "xs.append('bar')\n",
    "print(xs)\n",
    "x = xs.pop()\n",
    "print(x, xs)\n",
    "# slicing\n",
    "nums = list(range(5))\n",
    "print(nums)\n",
    "print(nums[2:4]) # [2, 4) last is exluded\n",
    "print(nums[2:])\n",
    "print(nums[:2])\n",
    "print(nums[:])\n",
    "print(nums[:-1])\n",
    "nums[2:4] = [8, 9]\n",
    "print(nums)\n",
    "\n",
    "# dictionaries\n",
    "d = {'cat': 'cute', 'dog': 'furry'}\n",
    "print(d['cat'])\n",
    "print('cat' in d)\n",
    "d['fish'] = 'wet'\n",
    "print(d)\n",
    "# print(d['monkey'])\n",
    "print(d.get('fish', 'N/A'))\n",
    "print(d.get('monkey', 'N/A'))\n",
    "del d['fish']\n",
    "print(d.get('fish', 'N/A'))\n",
    "\n",
    "# sets\n",
    "animals = {'cat', 'dog'}\n",
    "print('cat' in animals)\n",
    "print('fish' in animals)\n",
    "animals.add('fish')\n",
    "print('fish' in animals)\n",
    "print(len(animals))\n",
    "animals.remove('cat')\n",
    "print(len(animals))\n",
    "print(animals)\n",
    "\n",
    "# tuples\n",
    "d = {(x, x + 1): x for x in range(10)}\n",
    "print(d)\n",
    "t = (5,6)\n",
    "print(type(t))\n",
    "print(d[t])\n",
    "print(d[(1,2)])"
   ]
  },
  {
   "cell_type": "code",
   "execution_count": 68,
   "metadata": {},
   "outputs": [
    {
     "name": "stdout",
     "output_type": "stream",
     "text": [
      "cat\n",
      "dog\n",
      "monkey\n",
      "0: cat\n",
      "1: dog\n",
      "2: monkey\n",
      "[0, 1, 4, 9, 16]\n",
      "[0, 1, 4, 9, 16]\n",
      "[0, 4, 16]\n",
      "A person has 2 legs\n",
      "A spider has 8 legs\n",
      "A cat has 4 legs\n",
      "A person has 2 legs\n",
      "A spider has 8 legs\n",
      "A cat has 4 legs\n",
      "{0: 0, 2: 4, 4: 16}\n",
      "1: fish\n",
      "2: dog\n",
      "3: cat\n",
      "set([0, 1, 2, 3, 4, 5])\n"
     ]
    }
   ],
   "source": [
    "# loops and enumrations\n",
    "\n",
    "animals = ['cat', 'dog', 'monkey']\n",
    "for animal in animals:\n",
    "    print(animal)\n",
    "    \n",
    "for i, animal in enumerate(animals):\n",
    "    print('%d: %s' % (i, animal))\n",
    "    \n",
    "nums = [0, 1, 2, 3, 4]\n",
    "squares = []\n",
    "for x in nums:\n",
    "    squares.append(x ** 2)\n",
    "print(squares)\n",
    "\n",
    "# list comprehension\n",
    "squares = [ x ** 2 for x in nums]\n",
    "print(squares)\n",
    "\n",
    "# dictionaty comprehension\n",
    "even_squares = [x ** 2 for x in nums if x % 2 == 0]\n",
    "print(even_squares)\n",
    "\n",
    "d = { 'person': 2, 'cat': 4, 'spider': 8 }\n",
    "\n",
    "for animal in d:\n",
    "    legs = d[animal]\n",
    "    print('A %s has %d legs' % (animal, legs))\n",
    "\n",
    "for animal, legs in d.items():\n",
    "    print('A %s has %d legs' % (animal, legs))\n",
    "    \n",
    "nums = [0, 1, 2, 3, 4]\n",
    "even_num_to_square = { x: x ** 2 for x in nums if x % 2 == 0 }\n",
    "print(even_num_to_square)\n",
    "\n",
    "animals = { 'cat', 'dog', 'fish' }\n",
    "for i, animal in enumerate(animals):\n",
    "    print('%d: %s' % (i + 1, animal))\n",
    "\n",
    "# set comprehension    \n",
    "from math import sqrt\n",
    "nums = {int(sqrt(x)) for x in range(30)}\n",
    "print(nums)"
   ]
  },
  {
   "cell_type": "code",
   "execution_count": 79,
   "metadata": {},
   "outputs": [
    {
     "name": "stdout",
     "output_type": "stream",
     "text": [
      "negative\n",
      "zero\n",
      "positive\n",
      "Hello, Bob\n",
      "HELLO, FRED!\n",
      "HELLO, FRED!\n"
     ]
    }
   ],
   "source": [
    "# functions\n",
    "\n",
    "def sign(x):\n",
    "    if x > 0:\n",
    "        return 'positive'\n",
    "    elif x < 0:\n",
    "        return 'negative'\n",
    "    else:\n",
    "        return 'zero'\n",
    "\n",
    "for x in [-1, 0, 1]:\n",
    "    print(sign(x))\n",
    "    \n",
    "def hello(name, loud = False):\n",
    "    if loud:\n",
    "        print('HELLO, %s!' % name.upper())\n",
    "    else:\n",
    "        print('Hello, %s' % name)\n",
    "\n",
    "hello('Bob')\n",
    "hello('Fred', loud=True)\n",
    "hello('Fred', True)\n",
    "        "
   ]
  },
  {
   "cell_type": "code",
   "execution_count": 81,
   "metadata": {},
   "outputs": [
    {
     "name": "stdout",
     "output_type": "stream",
     "text": [
      "Hello, Fred\n",
      "HELLO, FRED!\n"
     ]
    }
   ],
   "source": [
    "# classes\n",
    "\n",
    "class Greeter(object):\n",
    "    # constuctor\n",
    "    def __init__(self, name):\n",
    "        self.name = name # creates an instance variable\n",
    "    # instance method\n",
    "    def greet(self, loud=False):\n",
    "        if loud:\n",
    "            print('HELLO, %s!' % self.name.upper())\n",
    "        else:\n",
    "            print('Hello, %s' % self.name)\n",
    "\n",
    "g = Greeter('Fred')\n",
    "g.greet()\n",
    "g.greet(loud=True)"
   ]
  }
 ],
 "metadata": {
  "kernelspec": {
   "display_name": "Python 2",
   "language": "python",
   "name": "python2"
  },
  "language_info": {
   "codemirror_mode": {
    "name": "ipython",
    "version": 2
   },
   "file_extension": ".py",
   "mimetype": "text/x-python",
   "name": "python",
   "nbconvert_exporter": "python",
   "pygments_lexer": "ipython2",
   "version": "2.7.16"
  }
 },
 "nbformat": 4,
 "nbformat_minor": 2
}
